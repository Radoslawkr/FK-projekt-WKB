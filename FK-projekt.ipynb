{
 "cells": [
  {
   "cell_type": "markdown",
   "id": "86e70fb9-2099-4047-9d5e-efb429d36971",
   "metadata": {},
   "source": [
    "## Przybliżenie WKB (Wentzla-Kramesa-Brillouina)"
   ]
  },
  {
   "cell_type": "markdown",
   "id": "bf21c243-5a37-4cbe-b595-41c9ecfef4ea",
   "metadata": {},
   "source": [
    "Przybliżenie WKB - przybliżona metoda rozwiązania równania Schrödingera polegająca na założeniu, że funkcja falowa $\\psi$ jest falą płaską o współczynnikach zniekształconych przez obecność potencjału $V(x)$."
   ]
  },
  {
   "cell_type": "markdown",
   "id": "0fa4b628-998c-43b2-be09-d88db7f88f84",
   "metadata": {},
   "source": [
    "$$\\psi(x) = A(x) e^{i\\phi(x)}$$"
   ]
  },
  {
   "cell_type": "markdown",
   "id": "eb576444-c6fd-4f97-bbbc-b6b2ba463d35",
   "metadata": {},
   "source": [
    "Przybliżenie WKB możemy stosować dla systemów w których zmiany potencjału $V(x)$ są małe dla długości fali De Broglie'a cząstki.\n"
   ]
  },
  {
   "cell_type": "markdown",
   "id": "26413417-79c4-4aad-a6bd-dfa1f2c013b2",
   "metadata": {},
   "source": [
    "Zakładamy, że zmiana współczynników fazy i amplitudy następuje powoli."
   ]
  },
  {
   "cell_type": "code",
   "execution_count": 1,
   "id": "5302f319-615f-4b37-a032-d80aee34210b",
   "metadata": {
    "tags": []
   },
   "outputs": [],
   "source": [
    "import numpy as np\n",
    "import matplotlib.pyplot as plt\n",
    "import matplotlib.animation as anim\n",
    "from IPython.core.display import HTML\n",
    "import sympy as sp\n",
    "from sympy.utilities.lambdify import lambdify\n",
    "sp.init_printing()\n",
    "from scipy.integrate import quad\n",
    "from scipy.constants import hbar"
   ]
  },
  {
   "cell_type": "code",
   "execution_count": 2,
   "id": "4e28770f-5fd7-4d08-a491-5faa5b4643b1",
   "metadata": {},
   "outputs": [],
   "source": [
    "Ev = 1"
   ]
  },
  {
   "cell_type": "code",
   "execution_count": 3,
   "id": "7a7decec-638d-4d69-8ffe-7cf3f76aaa20",
   "metadata": {},
   "outputs": [],
   "source": [
    "def Vv(xv):\n",
    "    return (xv - 1)**4 + (xv - 1) + 1"
   ]
  },
  {
   "cell_type": "markdown",
   "id": "80125d1e-3773-45b3-8a4e-190d7926ba9a",
   "metadata": {
    "tags": []
   },
   "source": [
    "Rozważamy przypadek dla $V(x) = (x-1)^4+x$ , oraz $E = 1$"
   ]
  },
  {
   "cell_type": "markdown",
   "id": "604bf5be-10bb-44e4-a5aa-191b8f06bc59",
   "metadata": {},
   "source": [
    "$$V(x_1) = V(x_2) = E$$"
   ]
  },
  {
   "cell_type": "code",
   "execution_count": 4,
   "id": "e8e4258f-3c7c-4f20-bd57-bf5e3e7b832c",
   "metadata": {},
   "outputs": [],
   "source": [
    "xvplt = np.linspace(-0.5, 1.5 ,1000)\n",
    "vvplt = Vv(xvplt)\n",
    "Evplt = [1 for xv in range(1000)]"
   ]
  },
  {
   "cell_type": "code",
   "execution_count": 5,
   "id": "dba755e4-e17c-44c5-8204-eca9aed44363",
   "metadata": {},
   "outputs": [
    {
     "data": {
      "image/png": "[encoded data removed]",
      "text/latex": [
       "$\\displaystyle \\left( 0.0, \\  1.5\\right)$"
      ],
      "text/plain": [
       "(0.0, 1.5)"
      ]
     },
     "execution_count": 5,
     "metadata": {},
     "output_type": "execute_result"
    },
    {
     "data": {
      "text/plain": [
       "<Figure size 1440x720 with 0 Axes>"
      ]
     },
     "metadata": {},
     "output_type": "display_data"
    },
    {
     "data": {
      "image/png": "[encoded data removed]",
      "text/plain": [
       "<Figure size 432x288 with 1 Axes>"
      ]
     },
     "metadata": {
      "needs_background": "light"
     },
     "output_type": "display_data"
    }
   ],
   "source": [
    "plt.figure(figsize = (20,10))\n",
    "\n",
    "fig, ax = plt.subplots()\n",
    "plt.plot(xvplt, vvplt, label = 'V(x)')\n",
    "plt.plot(xvplt, Evplt, '--', label = 'E')\n",
    "plt.axis('equal')\n",
    "plt.plot([0], [1], 'ro', label = 'x_1')\n",
    "plt.plot([1], [1], 'bo', label = 'x_2')\n",
    "plt.grid()\n",
    "plt.xlabel('x')\n",
    "leg = ax.legend();\n",
    "plt.gca().set_ylim(0, 1.5)"
   ]
  },
  {
   "cell_type": "markdown",
   "id": "345eb9f0-29fa-457a-8752-7ea402ac7267",
   "metadata": {
    "tags": []
   },
   "source": [
    "1. Dla E > V(x):"
   ]
  },
  {
   "cell_type": "markdown",
   "id": "19f97741-c048-4248-ba5c-af013376a5bd",
   "metadata": {},
   "source": [
    "Funkcja falowa dla stałego potencjału $V = const.$ przyjmuje formę:$$\\psi(x) = A e^{\\pm ikx},$$"
   ]
  },
  {
   "cell_type": "markdown",
   "id": "fca83560-9771-40a8-b125-4eaad650363b",
   "metadata": {},
   "source": [
    "gdzie:$$k(x) = \\frac{\\sqrt{2m(E-V(X))}}{\\hbar}$$"
   ]
  },
  {
   "cell_type": "markdown",
   "id": "54626882-fd69-492d-a01f-d0cbbaf1a8e7",
   "metadata": {},
   "source": [
    "Zgodnie z założeniami przybliżenia zakładamy, że w obecności zmiennego potencjału $V(x)$ współczynniki fazy i amplitudy są zmienne i zależą od $x$:"
   ]
  },
  {
   "cell_type": "markdown",
   "id": "26763dd3-1cb6-44b0-a9e4-a02c1d83376a",
   "metadata": {},
   "source": [
    "$$\\psi(x) = A(x) e^{i\\phi(x)}$$"
   ]
  },
  {
   "cell_type": "markdown",
   "id": "2fdadcfe-dd5c-40a3-a676-a4419032a02f",
   "metadata": {},
   "source": [
    "Otrzymana funkcja falowa musi spełniać niezależne od czasu Równanie Schrödingera:"
   ]
  },
  {
   "cell_type": "markdown",
   "id": "a66f92a3-dd10-48ed-a1c1-638fb24f749a",
   "metadata": {},
   "source": [
    "$$-\\frac{\\hbar^2}{2m} \\frac{d^2\\psi}{dx^2} + V(x)\\psi = E \\psi$$"
   ]
  },
  {
   "cell_type": "markdown",
   "id": "db7ad883-858e-4671-a5eb-493a7ca2e971",
   "metadata": {},
   "source": [
    "$$-\\hbar^2 \\frac{d^2\\psi}{dx^2}  = 2m(E - V(x)) \\psi$$"
   ]
  },
  {
   "cell_type": "markdown",
   "id": "531afb77-4360-4077-b792-f5eda289f05e",
   "metadata": {},
   "source": [
    "$$p(x) = \\sqrt{2m(E-V(x))}$$"
   ]
  },
  {
   "cell_type": "markdown",
   "id": "9fc52200-d23f-45b5-b473-a8e0998a5459",
   "metadata": {
    "tags": []
   },
   "source": [
    "$$\\frac{d^2\\psi}{dx^2} = - \\frac{p(x)^2}{\\hbar^2}\\psi$$"
   ]
  },
  {
   "cell_type": "code",
   "execution_count": 6,
   "id": "01a537f1-e998-4453-9255-69dcb0f73306",
   "metadata": {},
   "outputs": [
    {
     "data": {
      "image/png": "[encoded data removed]",
      "text/latex": [
       "$\\displaystyle \\left( \\psi{\\left(x \\right)}, \\  A{\\left(x \\right)}, \\  \\phi{\\left(x \\right)}\\right)$"
      ],
      "text/plain": [
       "(ψ(x), A(x), φ(x))"
      ]
     },
     "execution_count": 6,
     "metadata": {},
     "output_type": "execute_result"
    }
   ],
   "source": [
    "psie = sp.Function('psi', complex = True)\n",
    "Ae = sp.Function('A', real = True)\n",
    "phie = sp.Function('phi', real = True)\n",
    "xe = sp.Symbol('x', real = True)\n",
    "psie(xe), Ae(xe), phie(xe)"
   ]
  },
  {
   "cell_type": "code",
   "execution_count": 7,
   "id": "84eff97b-acf4-4a87-9b11-7ae30d274dae",
   "metadata": {},
   "outputs": [
    {
     "data": {
      "image/png": "[encoded data removed]",
      "text/latex": [
       "$\\displaystyle A{\\left(x \\right)} e^{i \\phi{\\left(x \\right)}}$"
      ],
      "text/plain": [
       "      ⅈ⋅φ(x)\n",
       "A(x)⋅ℯ      "
      ]
     },
     "execution_count": 7,
     "metadata": {},
     "output_type": "execute_result"
    }
   ],
   "source": [
    "psie = Ae(xe) * sp.exp(sp.I * phie(xe) )\n",
    "psie"
   ]
  },
  {
   "cell_type": "code",
   "execution_count": 8,
   "id": "8425a4c5-81c5-4177-a949-047d933b7d4b",
   "metadata": {},
   "outputs": [
    {
     "data": {
      "image/png": "[encoded data removed]",
      "text/latex": [
       "$\\displaystyle \\left(- \\left(\\left(\\frac{d}{d x} \\phi{\\left(x \\right)}\\right)^{2} - i \\frac{d^{2}}{d x^{2}} \\phi{\\left(x \\right)}\\right) A{\\left(x \\right)} + 2 i \\frac{d}{d x} A{\\left(x \\right)} \\frac{d}{d x} \\phi{\\left(x \\right)} + \\frac{d^{2}}{d x^{2}} A{\\left(x \\right)}\\right) e^{i \\phi{\\left(x \\right)}}$"
      ],
      "text/plain": [
       "⎛  ⎛          2       2      ⎞                                  2      ⎞      \n",
       "⎜  ⎜⎛d       ⎞       d       ⎟            d        d           d       ⎟  ⅈ⋅φ(\n",
       "⎜- ⎜⎜──(φ(x))⎟  - ⅈ⋅───(φ(x))⎟⋅A(x) + 2⋅ⅈ⋅──(A(x))⋅──(φ(x)) + ───(A(x))⎟⋅ℯ    \n",
       "⎜  ⎜⎝dx      ⎠        2      ⎟            dx       dx           2      ⎟      \n",
       "⎝  ⎝                dx       ⎠                                dx       ⎠      \n",
       "\n",
       "  \n",
       "x)\n",
       "  \n",
       "  \n",
       "  "
      ]
     },
     "execution_count": 8,
     "metadata": {},
     "output_type": "execute_result"
    }
   ],
   "source": [
    "pside = psie.diff(xe,xe).simplify()\n",
    "pside"
   ]
  },
  {
   "cell_type": "markdown",
   "id": "9de61c96-1377-43b0-bc86-f14bc780fa77",
   "metadata": {},
   "source": [
    "$$\\frac{d^2\\psi}{dx^2} = \\left[ A''(x) + 2iA(x)'\\phi'(x) + i A(x)\\phi''(x) - A(x)(\\phi'(x))^2 \\right] e^{i\\phi(x)} = - \\frac{p^2}{\\hbar^2}A(x)e^{i\\phi(x)}$$"
   ]
  },
  {
   "cell_type": "markdown",
   "id": "6036ca3b-cce4-4b95-b0a3-430a9e275f32",
   "metadata": {},
   "source": [
    "$$ A'' + 2iA'\\phi' + i A\\phi'' - A(\\phi')^2 = -\\frac{p^2}{\\hbar^2}A$$"
   ]
  },
  {
   "cell_type": "markdown",
   "id": "d5d0b7ba-55d8-46ca-ba63-eb66939be292",
   "metadata": {},
   "source": [
    "Część rzeczywista: $$ A'' - A(\\phi')^2 = -\\frac{p^2}{\\hbar^2}A $$"
   ]
  },
  {
   "cell_type": "markdown",
   "id": "951ed2a3-fb57-42e8-91fc-f052bb0d6b44",
   "metadata": {},
   "source": [
    "$$A'' = A \\left[ (\\phi')^2 -\\frac{p^2}{\\hbar^2} \\right]$$"
   ]
  },
  {
   "cell_type": "markdown",
   "id": "ce499bf7-482b-4778-b1f6-1340fb57290f",
   "metadata": {},
   "source": [
    "Zakładamy, że zmiana amplitudy jest niewielka, zatem: $$A'' \\ll (\\phi')^2, \\frac{p^2}{\\hbar^2}\\;,\\;\\;\\;\\;A''\\approx 0 $$"
   ]
  },
  {
   "cell_type": "markdown",
   "id": "1c634864-37e0-4ceb-83e8-34cba268b414",
   "metadata": {},
   "source": [
    "$$A\\left[ (\\phi')^2 -\\frac{p^2}{\\hbar^2} \\right]=0$$"
   ]
  },
  {
   "cell_type": "markdown",
   "id": "725a76be-666c-43b3-9b7c-b8df14627f3a",
   "metadata": {},
   "source": [
    "$$(\\phi')^2 =\\frac{p^2}{\\hbar^2}$$"
   ]
  },
  {
   "cell_type": "markdown",
   "id": "f71991d5-3281-4ea1-a15d-7e8cc6936cc7",
   "metadata": {},
   "source": [
    "$$\\phi' =\\pm\\frac{p}{\\hbar}$$"
   ]
  },
  {
   "cell_type": "markdown",
   "id": "98ea384b-4798-4d90-85f7-c9a4e16825bd",
   "metadata": {},
   "source": [
    "$$\\phi(x) = \\pm\\frac{1}{\\hbar} \\int p(x) dx$$"
   ]
  },
  {
   "cell_type": "markdown",
   "id": "d8c8f1be-c3a2-4ca9-a31e-b227932c8dd4",
   "metadata": {},
   "source": [
    "Część urojona:$$2A'\\phi' + A\\phi'' = 0$$"
   ]
  },
  {
   "cell_type": "markdown",
   "id": "4c81ff96-5b06-47d0-867d-330e2091e34c",
   "metadata": {},
   "source": [
    "$$2AA'\\phi' + A^2\\phi'' = 0$$"
   ]
  },
  {
   "cell_type": "markdown",
   "id": "ca909607-df22-489e-a4f3-a939fc024d21",
   "metadata": {},
   "source": [
    "$$(A^2\\phi')' = 0$$"
   ]
  },
  {
   "cell_type": "markdown",
   "id": "82c2f703-5842-43f7-8ad9-38c625e9be11",
   "metadata": {},
   "source": [
    "$$A^2\\phi' = B^2 \\rightarrow A(x) = \\frac{B}{\\sqrt{\\phi'(x)}}$$"
   ]
  },
  {
   "cell_type": "markdown",
   "id": "abb501d3-ccb9-4986-82d1-cc1ad53e893a",
   "metadata": {},
   "source": [
    "Z poprzedniego równania: $$\\phi'(x) = \\pm\\frac{p(x)}{\\hbar}$$"
   ]
  },
  {
   "cell_type": "markdown",
   "id": "d256cffa-cc0b-44a1-a053-e87390c1da5b",
   "metadata": {},
   "source": [
    "$$A(x) = \\frac{C}{\\sqrt{p(x)}}$$"
   ]
  },
  {
   "cell_type": "markdown",
   "id": "c244bbdc-011a-498c-abf9-e11bfd7db4f2",
   "metadata": {},
   "source": [
    "Zatem funkcja falowa ma przybliżoną  postać: $$\\psi(x) \\approx \\frac{C}{\\sqrt{p(x)}}e^{\\pm\\frac{i}{\\hbar}\\int p(x) dx}$$"
   ]
  },
  {
   "cell_type": "markdown",
   "id": "6c31003a-cdec-48b0-87a2-fa46352848a9",
   "metadata": {},
   "source": [
    "$$\\psi(x) = \\frac{1}{\\sqrt{p(x)}}  \\left[C_+e^{\\frac{i}{\\hbar}\\int p(x) dx} + C_- e^{-\\frac{i}{\\hbar}\\int p(x) dx}\\right] $$"
   ]
  },
  {
   "cell_type": "markdown",
   "id": "05f841d1-631e-494d-9156-47998f0d3cc8",
   "metadata": {},
   "source": [
    "$$\\psi(x) = \\frac{1}{\\sqrt{p(x)}}  \\left[ C_1 \\sin{ \\left(\\frac{1}{\\hbar}\\int p(x) dx \\right)} + C_2 \\cos{ \\left( \\frac{1}{\\hbar}\\int p(x) dx \\right) }\\right] $$"
   ]
  },
  {
   "cell_type": "markdown",
   "id": "b0b68325-de0b-40ed-a2c5-7727da84c52c",
   "metadata": {},
   "source": [
    "2. Dla E < V(x)"
   ]
  },
  {
   "cell_type": "markdown",
   "id": "d9d4978d-721c-4ba5-80c0-44ca4f8da2a8",
   "metadata": {},
   "source": [
    "Dla stałego potencjału: $$\\psi(x) = A e^{\\pm \\kappa x}$$ "
   ]
  },
  {
   "cell_type": "markdown",
   "id": "76c9c5a5-06e9-4d0c-8666-675122f58c00",
   "metadata": {
    "tags": []
   },
   "source": [
    "gdzie: $$\\kappa = \\frac{\\sqrt{2m(V(x) - E)}}{\\hbar}$$"
   ]
  },
  {
   "cell_type": "markdown",
   "id": "e0a6a493-c1e9-4522-8cdb-8b978606d587",
   "metadata": {
    "tags": []
   },
   "source": [
    "Szukamy rozwiązania w postaci fali płaskiej o zmiennych współczynnikach:"
   ]
  },
  {
   "cell_type": "markdown",
   "id": "5c53c802-ed72-4209-97fa-5872faca8213",
   "metadata": {},
   "source": [
    "$$\\psi(x) = A(x) e^{i\\phi(x)}$$"
   ]
  },
  {
   "cell_type": "markdown",
   "id": "2b0c3e4e-04c4-4600-b3e8-7eb7dfc2c7f3",
   "metadata": {},
   "source": [
    "Rozwiązanie jest takie samo jak dla $E > V(x)$ z tą różnicą że pęd przyjmuje wartości urojone:"
   ]
  },
  {
   "cell_type": "markdown",
   "id": "c7a13d61-047c-4359-aa39-36b84a4d9e74",
   "metadata": {},
   "source": [
    " $$p(x)^2 = 2m(E - V(x)) < 0 \\rightarrow p(x) = i \\sqrt{2m(E - V(x))} $$"
   ]
  },
  {
   "cell_type": "markdown",
   "id": "e9e190f0-9f1f-4b9c-afe6-bde533a8c752",
   "metadata": {},
   "source": [
    "$$(\\phi')^2 =\\frac{p^2}{\\hbar^2} = -\\frac{|p|^2}{\\hbar^2}$$"
   ]
  },
  {
   "cell_type": "markdown",
   "id": "103191eb-ed86-46f1-a4d0-74a24dcda9d7",
   "metadata": {},
   "source": [
    "$$\\phi' = \\pm i \\frac{|p|}{\\hbar}$$"
   ]
  },
  {
   "cell_type": "markdown",
   "id": "213bf8d4-6c48-49cd-a12e-f5353a33936c",
   "metadata": {},
   "source": [
    "Zatem: $$\\phi(x) = \\pm\\frac{i}{\\hbar}\\int |p(x)|dx$$"
   ]
  },
  {
   "cell_type": "markdown",
   "id": "5dbc8f1f-9fa3-4650-b915-73ae613e06f4",
   "metadata": {},
   "source": [
    "$$\\psi(x) \\approx \\frac{D}{\\sqrt{|p(x)|}}e^{\\pm\\frac{1}{\\hbar}\\int |p(x)|dx}$$"
   ]
  },
  {
   "cell_type": "markdown",
   "id": "f048b0c3-d37a-4f04-8bbd-b3af7c1da6a7",
   "metadata": {},
   "source": [
    "$$\\psi(x) \\approx \\frac{1}{\\sqrt{|p(x)|}} \\left[ D_+ e^{\\frac{1}{\\hbar}\\int |p(x)|dx} + D_- e^{-\\frac{1}{\\hbar}\\int |p(x)|dx}   \\right]$$"
   ]
  },
  {
   "cell_type": "markdown",
   "id": "8f6b9ec2-2272-4f93-afd3-232a5346dc43",
   "metadata": {},
   "source": [
    "Funkcja falowa musi być zbieżna w nieskończonościach, zatem dla $x < x_1$:"
   ]
  },
  {
   "cell_type": "markdown",
   "id": "65ab90b2-98d8-4f38-8a8d-64d4b9c67120",
   "metadata": {},
   "source": [
    "$$\\psi(x) = \\frac{D}{\\sqrt{|p(x)|}}e^{\\frac{1}{\\hbar}\\int |p(x)|dx}$$"
   ]
  },
  {
   "cell_type": "markdown",
   "id": "e8ffa060-cd61-4291-b3a0-587eb725e8ff",
   "metadata": {},
   "source": [
    "dla $x > x_2$:"
   ]
  },
  {
   "cell_type": "markdown",
   "id": "32e60d56-c9f9-4d25-bf27-0494ebbf1081",
   "metadata": {},
   "source": [
    "$$\\psi(x) = \\frac{D}{\\sqrt{|p(x)|}}e^{-\\frac{1}{\\hbar}\\int |p(x)|dx}$$"
   ]
  },
  {
   "cell_type": "markdown",
   "id": "b55a5716-3b95-48ca-972e-10f808706676",
   "metadata": {},
   "source": [
    "Funkcja falowa: $$\\psi(x)= \n",
    "\\begin{cases} \n",
    "    \\frac{D}{\\sqrt{|p(x)|}}e^{\\frac{1}{\\hbar}\\int |p(x)|dx} & x < x_1\\\\\n",
    "    \\frac{1}{\\sqrt{p(x)}}  \\left[C_+e^{\\frac{i}{\\hbar}\\int_{x_2}^{x} p(x) dx} + C_- e^{-\\frac{i}{\\hbar}\\int_{x_2}^{x} p(x) dx}\\right] & x_1 < x < x_2 \\\\\n",
    "      \\frac{D}{\\sqrt{|p(x)|}}e^{-\\frac{1}{\\hbar}\\int_{x_2}^{x} |p(x)|dx} &  x > x_2\n",
    "   \\end{cases}$$\n",
    "\n"
   ]
  },
  {
   "cell_type": "markdown",
   "id": "b70470f8-68e0-49e4-8caa-38ae074ba94d",
   "metadata": {},
   "source": [
    "W punktach $x_1$ i $x_2$ $E = V(x_1) = V(x_2)$, oraz $p(x) = 0$. Oznacza to, że funkcja falowa w otoczeniu tych punktów jest rozbieżna do nieskończoności."
   ]
  },
  {
   "cell_type": "markdown",
   "id": "daa07cdb-c905-459c-82f2-eed1862d2d17",
   "metadata": {},
   "source": [
    "W otoczeniu punktu $x_2$ funkcja falowa:"
   ]
  },
  {
   "cell_type": "markdown",
   "id": "04f8c642-2274-4c5a-9268-59253a4b3de3",
   "metadata": {},
   "source": [
    "Związek pomiędzy współczynnikami $C_+, C_-, D$:"
   ]
  },
  {
   "cell_type": "markdown",
   "id": "de1a94a3-a33c-4520-b032-f1e6b5319ad7",
   "metadata": {},
   "source": [
    "$$ C_+ = -ie^{i\\pi/4} D,\\;\\;\\;\\;\\;\\;C_- = ie^{-i\\pi/4} D  $$"
   ]
  },
  {
   "cell_type": "markdown",
   "id": "7d2cc600-d205-4342-8499-0377c2bcb64b",
   "metadata": {},
   "source": [
    "$$\\frac{1}{\\sqrt{p(x)}}  \\left[C_+e^{\\frac{i}{\\hbar}\\int_{x_2}^{x} p(x) dx} + C_- e^{-\\frac{i}{\\hbar}\\int_{x_2}^{x} p(x) dx}\\right] =$$"
   ]
  },
  {
   "cell_type": "markdown",
   "id": "64356e50-8edc-4adb-a249-c8fca8c5b24a",
   "metadata": {},
   "source": [
    "$$=\\frac{1}{\\sqrt{p(x)}}  \\left[-i D e^{\\frac{i}{\\hbar}\\int_{x_2}^{x} p(x) dx + i\\pi/4} + iD e^{-i \\left( \\frac{1}{\\hbar}\\int_{x_2}^{x} p(x) dx + \\pi/4 \\right)}\\right] = $$"
   ]
  },
  {
   "cell_type": "markdown",
   "id": "3c525dc4-ed55-4ef8-b0e6-86fc67ccb90a",
   "metadata": {},
   "source": [
    "$$= \\frac{2D}{\\sqrt{p(x)}}\\sin{\\left(- \\frac{1}{\\hbar}\\int_{x}^{x_2} p(x) dx + \\pi/4 \\right)}$$"
   ]
  },
  {
   "cell_type": "code",
   "execution_count": 9,
   "id": "a47c5aac-f0a9-4229-b0c5-0fc4197bea45",
   "metadata": {},
   "outputs": [
    {
     "data": {
      "image/png": "[encoded data removed]",
      "text/latex": [
       "$\\displaystyle \\left( p{\\left(xp \\right)}, \\  \\psi{\\left(xp \\right)}, \\  V{\\left(xp \\right)}, \\  x, \\  \\hbar, \\  D, \\  m, \\  E, \\  x_{1}, \\  x_{2}, \\  xp\\right)$"
      ],
      "text/plain": [
       "(p(xp), ψ(xp), V(xp), x, h̅, D, m, E, x₁, x₂, xp)"
      ]
     },
     "execution_count": 9,
     "metadata": {},
     "output_type": "execute_result"
    }
   ],
   "source": [
    "p = sp.Function('p', complex = True)\n",
    "psi = sp.Function('psi', complex = True)\n",
    "V = sp.Function('V', real = True)\n",
    "x = sp.Symbol('x', real = True)\n",
    "h = sp.Symbol('hbar', real = True, positive = True)\n",
    "D = sp.Symbol('D')\n",
    "m = sp.Symbol('m', real = True, positive = True)\n",
    "E = sp.Symbol('E', real = True, positive = True)\n",
    "x1 = sp.Symbol('x_1', real = True)\n",
    "x2 = sp.Symbol('x_2', real = True)\n",
    "xp = sp.Symbol(\"xp\", real = True)\n",
    "p(xp), psi(xp), V(xp), x, h, D, m, E, x1, x2, xp"
   ]
  },
  {
   "cell_type": "code",
   "execution_count": 10,
   "id": "8a1ccd19-9d1d-44bd-bff5-8e365060f437",
   "metadata": {},
   "outputs": [
    {
     "data": {
      "image/png": "[encoded data removed]",
      "text/latex": [
       "$\\displaystyle xp + \\left(xp - 1\\right)^{4}$"
      ],
      "text/plain": [
       "             4\n",
       "xp + (xp - 1) "
      ]
     },
     "execution_count": 10,
     "metadata": {},
     "output_type": "execute_result"
    }
   ],
   "source": [
    "V = (xp-1)**4 + xp\n",
    "V"
   ]
  },
  {
   "cell_type": "code",
   "execution_count": 11,
   "id": "7d9889ee-d0e7-4669-af9e-7d918dc43632",
   "metadata": {},
   "outputs": [
    {
     "data": {
      "image/png": "[encoded data removed]",
      "text/latex": [
       "$\\displaystyle \\sqrt{2} \\sqrt{m} \\sqrt{E - xp - \\left(xp - 1\\right)^{4}}$"
      ],
      "text/plain": [
       "         ____________________\n",
       "        ╱                  4 \n",
       "√2⋅√m⋅╲╱  E - xp - (xp - 1)  "
      ]
     },
     "execution_count": 11,
     "metadata": {},
     "output_type": "execute_result"
    }
   ],
   "source": [
    "p = sp.sqrt(2*m*(E-V))\n",
    "p"
   ]
  },
  {
   "cell_type": "code",
   "execution_count": 12,
   "id": "8cbe430c-920f-49ef-b695-7bb5cc0b0e63",
   "metadata": {
    "tags": []
   },
   "outputs": [
    {
     "data": {
      "image/png": "[encoded data removed]",
      "text/latex": [
       "$\\displaystyle \\sqrt{2} \\sqrt{- xp - \\left(xp - 1\\right)^{4} + 1}$"
      ],
      "text/plain": [
       "      _____________________\n",
       "     ╱               4     \n",
       "√2⋅╲╱  -xp - (xp - 1)  + 1 "
      ]
     },
     "execution_count": 12,
     "metadata": {},
     "output_type": "execute_result"
    }
   ],
   "source": [
    "p = p.subs({m: 1, E: 1})\n",
    "p"
   ]
  },
  {
   "cell_type": "code",
   "execution_count": 13,
   "id": "d21bdc48-b955-4dfb-adca-612c4b948826",
   "metadata": {},
   "outputs": [
    {
     "data": {
      "image/png": "[encoded data removed]",
      "text/plain": [
       "<Figure size 432x288 with 1 Axes>"
      ]
     },
     "metadata": {
      "needs_background": "light"
     },
     "output_type": "display_data"
    }
   ],
   "source": [
    "def pp(x):\n",
    "    #if x >= 0 and x <= 1:\n",
    "    return np.sqrt(2*(1-x-(x-1)**4) + 0j)\n",
    "    #else:\n",
    "        #return 1j*np.abs(np.sqrt(2*(-1+x+(x-1)**4)))\n",
    "def pp_abs(x):\n",
    "     return np.abs(np.sqrt(2*(1-x-(x-1)**4) + 0j))\n",
    "\n",
    "xplt1 = np.linspace(-0.3, 1.3, 1000)\n",
    "#rplt1 = []\n",
    "#iplt1 = []\n",
    "absplt1 = []\n",
    "for i in range(1000):\n",
    "#    rplt1.append(np.real(pp(xplt1[i])))\n",
    "#    iplt1.append(np.imag(pp(xplt1[i])))\n",
    "    absplt1.append(pp_abs(xplt1[i]))\n",
    "\n",
    "plt.plot(xplt1, absplt1)\n",
    "#plt.plot(xplt1, rplt1)\n",
    "#plt.plot(xplt1, ilt1)\n",
    "\n",
    "def pp_int(x):\n",
    "    res, err = quad(pp_abs, 0, x)\n",
    "    return res\n",
    "\n",
    "def pp_int_x2(x):\n",
    "    res, err = quad(pp_abs, 1, x)\n",
    "    return res\n",
    "\n",
    "\n",
    "def pp_int_x1(x):\n",
    "    res, err = quad(pp_abs, 0, x)\n",
    "    return res\n",
    "\n",
    "\n",
    "intplt1 = []\n",
    "for i in range(1000):\n",
    "    intplt1.append(pp_int(xplt1[i]))\n",
    "    \n",
    "plt.plot(xplt1, intplt1)\n",
    "plt.grid()"
   ]
  },
  {
   "cell_type": "code",
   "execution_count": 14,
   "id": "0cee822f-b147-4b2f-b1d3-ad8c8cbcbf29",
   "metadata": {},
   "outputs": [],
   "source": [
    "def psi(A,x):\n",
    "    if x > 0 and x < 1:\n",
    "        return -A*2/pp_abs(x)*np.sin(pp_int(x)/hbar/10**32+np.pi/4)\n",
    "    elif x >= 1:\n",
    "        return A*1/pp_abs(x)*np.exp(-pp_int_x2(x)/hbar/10**32)\n",
    "    elif x <= 0:\n",
    "        return A*1/pp_abs(x)*np.exp(pp_int_x1(x)/hbar/10**32)"
   ]
  },
  {
   "cell_type": "code",
   "execution_count": 15,
   "id": "7a3dc5e6-cb14-4732-b637-8360174d4e86",
   "metadata": {
    "tags": []
   },
   "outputs": [],
   "source": [
    "def psi2(x):\n",
    "    return psi(1,x)**2"
   ]
  },
  {
   "cell_type": "code",
   "execution_count": 16,
   "id": "5fe53f1d-698f-4884-acae-dcec749f0022",
   "metadata": {},
   "outputs": [
    {
     "data": {
      "text/plain": [
       "[<matplotlib.lines.Line2D at 0x23520b55330>]"
      ]
     },
     "execution_count": 16,
     "metadata": {},
     "output_type": "execute_result"
    },
    {
     "data": {
      "image/png": "[encoded data removed]",
      "text/plain": [
       "<Figure size 432x288 with 1 Axes>"
      ]
     },
     "metadata": {
      "needs_background": "light"
     },
     "output_type": "display_data"
    }
   ],
   "source": [
    "x = np.linspace(-0.3, 1.3, 500)\n",
    "y = []\n",
    "for i in range(500):\n",
    "    y.append(psi(1,x[i]))\n",
    "    \n",
    "plt.plot(x, y)"
   ]
  },
  {
   "cell_type": "code",
   "execution_count": 17,
   "id": "ae9968c7-1543-4aaf-89bd-16946abce6d5",
   "metadata": {},
   "outputs": [
    {
     "data": {
      "text/plain": [
       "[<matplotlib.lines.Line2D at 0x23543eb88b0>]"
      ]
     },
     "execution_count": 17,
     "metadata": {},
     "output_type": "execute_result"
    },
    {
     "data": {
      "image/png": "[encoded data removed]",
      "text/plain": [
       "<Figure size 432x288 with 1 Axes>"
      ]
     },
     "metadata": {
      "needs_background": "light"
     },
     "output_type": "display_data"
    }
   ],
   "source": [
    "y = []\n",
    "for i in range(500):\n",
    "    y.append(psi2(x[i]))\n",
    "    \n",
    "plt.plot(x, y)"
   ]
  },
  {
   "cell_type": "code",
   "execution_count": 18,
   "id": "747e97e8-8fd9-4a19-bd9c-52f0b1c716f4",
   "metadata": {},
   "outputs": [
    {
     "name": "stderr",
     "output_type": "stream",
     "text": [
      "C:\\Users\\Radek\\AppData\\Local\\Temp\\ipykernel_10052\\4242093572.py:1: IntegrationWarning: The maximum number of subdivisions (50) has been achieved.\n",
      "  If increasing the limit yields no improvement it is advised to analyze \n",
      "  the integrand in order to determine the difficulties.  If the position of a \n",
      "  local difficulty can be determined (singularity, discontinuity) one will \n",
      "  probably gain from splitting up the interval and calling the integrator \n",
      "  on the subranges.  Perhaps a special-purpose integrator should be used.\n",
      "  invA = quad(psi2, 0, 1)[0] + quad(psi2, -np.inf, 0)[0] + quad(psi2, 1, np.inf)[0]\n",
      "C:\\Users\\Radek\\AppData\\Local\\Temp\\ipykernel_10052\\4242093572.py:1: IntegrationWarning: Extremely bad integrand behavior occurs at some points of the\n",
      "  integration interval.\n",
      "  invA = quad(psi2, 0, 1)[0] + quad(psi2, -np.inf, 0)[0] + quad(psi2, 1, np.inf)[0]\n",
      "C:\\Users\\Radek\\AppData\\Local\\Temp\\ipykernel_10052\\465244107.py:27: IntegrationWarning: Extremely bad integrand behavior occurs at some points of the\n",
      "  integration interval.\n",
      "  res, err = quad(pp_abs, 1, x)\n"
     ]
    },
    {
     "data": {
      "image/png": "[encoded data removed]",
      "text/latex": [
       "$\\displaystyle 0.109420796377453$"
      ],
      "text/plain": [
       "0.10942079637745318"
      ]
     },
     "execution_count": 18,
     "metadata": {},
     "output_type": "execute_result"
    }
   ],
   "source": [
    "invA = quad(psi2, 0, 1)[0] + quad(psi2, -np.inf, 0)[0] + quad(psi2, 1, np.inf)[0]\n",
    "A = np.sqrt(1/invA)\n",
    "A"
   ]
  },
  {
   "cell_type": "code",
   "execution_count": 19,
   "id": "88503d00-123b-486b-a838-503f65cdfe37",
   "metadata": {},
   "outputs": [],
   "source": [
    "def psiNorm(x):\n",
    "    return psi(A, x)"
   ]
  },
  {
   "cell_type": "code",
   "execution_count": 20,
   "id": "1efcdc7c-a4d9-4912-a4fe-f059504fc34c",
   "metadata": {},
   "outputs": [
    {
     "data": {
      "text/plain": [
       "[<matplotlib.lines.Line2D at 0x23543f419f0>]"
      ]
     },
     "execution_count": 20,
     "metadata": {},
     "output_type": "execute_result"
    },
    {
     "data": {
      "image/png": "[encoded data removed]",
      "text/plain": [
       "<Figure size 432x288 with 1 Axes>"
      ]
     },
     "metadata": {
      "needs_background": "light"
     },
     "output_type": "display_data"
    }
   ],
   "source": [
    "y = []\n",
    "for i in range(500):\n",
    "    y.append(psiNorm(x[i]))\n",
    "    \n",
    "plt.plot(x, y)"
   ]
  },
  {
   "cell_type": "code",
   "execution_count": 21,
   "id": "1fcc11e5-cfde-46fc-8b46-065c77fbad0f",
   "metadata": {
    "tags": []
   },
   "outputs": [],
   "source": [
    "def psiNorm2(x):\n",
    "    return psiNorm(x)**2"
   ]
  },
  {
   "cell_type": "code",
   "execution_count": 22,
   "id": "b8049c7a-cb7c-4b69-869a-f4d9b57e6d0e",
   "metadata": {},
   "outputs": [
    {
     "data": {
      "text/plain": [
       "[<matplotlib.lines.Line2D at 0x23543fc0be0>]"
      ]
     },
     "execution_count": 22,
     "metadata": {},
     "output_type": "execute_result"
    },
    {
     "data": {
      "image/png": "[encoded data removed]",
      "text/plain": [
       "<Figure size 432x288 with 1 Axes>"
      ]
     },
     "metadata": {
      "needs_background": "light"
     },
     "output_type": "display_data"
    }
   ],
   "source": [
    "y = []\n",
    "for i in range(500):\n",
    "    y.append(psiNorm2(x[i]))\n",
    "    \n",
    "plt.plot(x, y)"
   ]
  },
  {
   "cell_type": "code",
   "execution_count": 23,
   "id": "7d91be0d-c0d0-44ea-a7e5-cb66d6770d97",
   "metadata": {},
   "outputs": [
    {
     "name": "stderr",
     "output_type": "stream",
     "text": [
      "C:\\Users\\Radek\\AppData\\Local\\Temp\\ipykernel_10052\\3632304348.py:2: IntegrationWarning: The maximum number of subdivisions (50) has been achieved.\n",
      "  If increasing the limit yields no improvement it is advised to analyze \n",
      "  the integrand in order to determine the difficulties.  If the position of a \n",
      "  local difficulty can be determined (singularity, discontinuity) one will \n",
      "  probably gain from splitting up the interval and calling the integrator \n",
      "  on the subranges.  Perhaps a special-purpose integrator should be used.\n",
      "  quad(psiNorm2, 0, 1)[0] + quad(psiNorm2, -np.inf, 0)[0] + quad(psiNorm2, 1, np.inf)[0]\n",
      "C:\\Users\\Radek\\AppData\\Local\\Temp\\ipykernel_10052\\3632304348.py:2: IntegrationWarning: Extremely bad integrand behavior occurs at some points of the\n",
      "  integration interval.\n",
      "  quad(psiNorm2, 0, 1)[0] + quad(psiNorm2, -np.inf, 0)[0] + quad(psiNorm2, 1, np.inf)[0]\n",
      "C:\\Users\\Radek\\AppData\\Local\\Temp\\ipykernel_10052\\465244107.py:27: IntegrationWarning: Extremely bad integrand behavior occurs at some points of the\n",
      "  integration interval.\n",
      "  res, err = quad(pp_abs, 1, x)\n"
     ]
    },
    {
     "data": {
      "image/png": "[encoded data removed]",
      "text/latex": [
       "$\\displaystyle 1.0$"
      ],
      "text/plain": [
       "1.0"
      ]
     },
     "execution_count": 23,
     "metadata": {},
     "output_type": "execute_result"
    }
   ],
   "source": [
    "#quad(psiNorm2, 0, 1), quad(psiNorm2, -np.inf, 0), quad(psiNorm2, 1, np.inf)\n",
    "quad(psiNorm2, 0, 1)[0] + quad(psiNorm2, -np.inf, 0)[0] + quad(psiNorm2, 1, np.inf)[0]"
   ]
  },
  {
   "cell_type": "code",
   "execution_count": 24,
   "id": "a4ba4103-4243-45ca-a4d1-bc347fcffc75",
   "metadata": {
    "tags": []
   },
   "outputs": [
    {
     "data": {
      "image/png": "[encoded data removed]",
      "text/latex": [
       "$\\displaystyle \\left( \\operatorname{pp}{\\left(y \\right)}, \\  x\\right)$"
      ],
      "text/plain": [
       "(pp(y), x)"
      ]
     },
     "execution_count": 24,
     "metadata": {},
     "output_type": "execute_result"
    }
   ],
   "source": [
    "pp = sp.Function('pp', complex = True)\n",
    "x = sp.Symbol('x', real = True)\n",
    "y = sp.Symbol('y', real = True)\n",
    "pp(y), x"
   ]
  },
  {
   "cell_type": "code",
   "execution_count": 25,
   "id": "d7b42eff-1038-45d9-838d-c71f55a0174b",
   "metadata": {
    "tags": []
   },
   "outputs": [
    {
     "data": {
      "image/png": "[encoded data removed]",
      "text/latex": [
       "$\\displaystyle \\left|{\\sqrt{- 2 y - 2 \\left(y - 1\\right)^{4} + 4}}\\right|$"
      ],
      "text/plain": [
       "│   _______________________│\n",
       "│  ╱                 4     │\n",
       "│╲╱  -2⋅y - 2⋅(y - 1)  + 4 │"
      ]
     },
     "execution_count": 25,
     "metadata": {},
     "output_type": "execute_result"
    }
   ],
   "source": [
    "pp = sp.Abs(sp.sqrt(2*(1-((y-1)**4)+1-y)))\n",
    "pp"
   ]
  },
  {
   "cell_type": "code",
   "execution_count": 26,
   "id": "67fda9ff-4058-452a-8523-ff21380a991b",
   "metadata": {},
   "outputs": [],
   "source": [
    "ppl = lambdify((y), pp)"
   ]
  },
  {
   "cell_type": "code",
   "execution_count": 27,
   "id": "a68a0457-adca-42ac-8cd3-b84d3467afcd",
   "metadata": {},
   "outputs": [
    {
     "data": {
      "image/png": "[encoded data removed]",
      "text/latex": [
       "$\\displaystyle \\int\\limits_{0}^{x} \\left|{\\sqrt{- 2 y - 2 \\left(y - 1\\right)^{4} + 4}}\\right|\\, dy$"
      ],
      "text/plain": [
       "x                                \n",
       "⌠                                \n",
       "⎮ │   _______________________│   \n",
       "⎮ │  ╱                 4     │   \n",
       "⎮ │╲╱  -2⋅y - 2⋅(y - 1)  + 4 │ dy\n",
       "⌡                                \n",
       "0                                "
      ]
     },
     "execution_count": 27,
     "metadata": {},
     "output_type": "execute_result"
    }
   ],
   "source": [
    "ppi = sp.integrate(pp, (y, 0, x))\n",
    "ppi"
   ]
  },
  {
   "cell_type": "code",
   "execution_count": 28,
   "id": "6ff6939e-0f53-44bc-8a9e-8653dbf8df53",
   "metadata": {},
   "outputs": [],
   "source": [
    "ppif = lambdify((x), ppi)"
   ]
  },
  {
   "cell_type": "code",
   "execution_count": 29,
   "id": "310c386c-c682-4b82-9b55-04b0a887c8a0",
   "metadata": {},
   "outputs": [],
   "source": [
    "xplt = np.linspace(0, 1, 1000)\n",
    "yplt = []\n",
    "zplt = []\n",
    "for i in range(1000):\n",
    "    yplt.append(np.real(ppif(xplt[i])))\n",
    "    zplt.append(np.imag(ppif(xplt[i])))\n",
    "    "
   ]
  },
  {
   "cell_type": "code",
   "execution_count": 30,
   "id": "801b0634-1639-403f-b084-eb687a5b1908",
   "metadata": {},
   "outputs": [
    {
     "data": {
      "text/plain": [
       "[<matplotlib.lines.Line2D at 0x2354425b8e0>]"
      ]
     },
     "execution_count": 30,
     "metadata": {},
     "output_type": "execute_result"
    },
    {
     "data": {
      "image/png": "[encoded data removed]",
      "text/plain": [
       "<Figure size 432x288 with 1 Axes>"
      ]
     },
     "metadata": {
      "needs_background": "light"
     },
     "output_type": "display_data"
    }
   ],
   "source": [
    "plt.plot(xplt, yplt)\n",
    "plt.plot(xplt, zplt)"
   ]
  },
  {
   "cell_type": "code",
   "execution_count": 31,
   "id": "501142e7-4bd8-4958-8d53-723cb6e2e277",
   "metadata": {},
   "outputs": [
    {
     "data": {
      "text/plain": [
       "[<matplotlib.lines.Line2D at 0x235452b8520>]"
      ]
     },
     "execution_count": 31,
     "metadata": {},
     "output_type": "execute_result"
    },
    {
     "data": {
      "image/png": "[encoded data removed]",
      "text/plain": [
       "<Figure size 432x288 with 1 Axes>"
      ]
     },
     "metadata": {
      "needs_background": "light"
     },
     "output_type": "display_data"
    }
   ],
   "source": [
    "sinplt = []\n",
    "for i in range(1000):\n",
    "    sinplt.append(1/ppl(xplt[i])*np.sin(-ppif(xplt[i])/hbar/10**32))\n",
    "plt.plot(xplt, sinplt)\n",
    "plt.plot([-0,1], [0,0])\n",
    "plt.plot([-0,0], [-1,1])"
   ]
  },
  {
   "cell_type": "code",
   "execution_count": null,
   "id": "efddf023-c90b-45be-a2ca-f9725162a669",
   "metadata": {},
   "outputs": [],
   "source": []
  },
  {
   "cell_type": "code",
   "execution_count": 33,
   "id": "08372697-1fa6-4936-bf31-1718320d9ed6",
   "metadata": {},
   "outputs": [
    {
     "data": {
      "text/plain": [
       "[<matplotlib.lines.Line2D at 0x235440404c0>]"
      ]
     },
     "execution_count": 33,
     "metadata": {},
     "output_type": "execute_result"
    },
    {
     "data": {
      "image/png": "[encoded data removed]",
      "text/plain": [
       "<Figure size 432x288 with 1 Axes>"
      ]
     },
     "metadata": {
      "needs_background": "light"
     },
     "output_type": "display_data"
    }
   ],
   "source": [
    "yplt2 = []\n",
    "for i in range(1000):\n",
    "    yplt2.append(1/ppl(xplt[i]))\n",
    "plt.plot(xplt, yplt2)\n",
    "plt.plot([0,0], [0,1], 'w--')"
   ]
  },
  {
   "cell_type": "markdown",
   "id": "c7778c47-074b-42fa-8825-c2d638f4673c",
   "metadata": {
    "tags": []
   },
   "source": [
    "Aby uzyskana funkcja falowa była ciągła i całkowalna dla $x \\in \\mathbb{R}$ jej poziomy muszą przyjwować dyskretne wartości, takie jak dla oscylatora harmonicznego:"
   ]
  },
  {
   "cell_type": "markdown",
   "id": "117fe0cb-97c7-4100-84ff-f6d2b5b38a6f",
   "metadata": {},
   "source": [
    "$$E_n = \\hbar \\omega \\left( n+\\frac{1}{2} \\right)$$"
   ]
  },
  {
   "cell_type": "markdown",
   "id": "69d8573b-91a1-481f-9b31-18df557f51ad",
   "metadata": {},
   "source": [
    "W tym celu energia cząstki w niecce potencjału musi spełaniać warunek:"
   ]
  },
  {
   "cell_type": "markdown",
   "id": "48d67b50-16d0-4e6c-8421-592604eeb396",
   "metadata": {},
   "source": [
    "$$\\int_{x_1}^{x_2} \\sqrt{2m(E-V(x))} = \\hbar \\omega \\left( n+\\frac{1}{2} \\right)$$"
   ]
  },
  {
   "cell_type": "code",
   "execution_count": 115,
   "id": "6099f9d6-d45d-4e74-95e6-a845f48dc884",
   "metadata": {
    "tags": []
   },
   "outputs": [
    {
     "data": {
      "image/png": "[encoded data removed]",
      "text/latex": [
       "$\\displaystyle \\left( E, \\  p{\\left(x \\right)}, \\  V{\\left(x \\right)}, \\  x, \\  \\operatorname{x_{1}}{\\left(E \\right)}, \\  \\operatorname{x_{2}}{\\left(E \\right)}, \\  m, \\  \\hbar, \\  n\\right)$"
      ],
      "text/plain": [
       "(E, p(x), V(x), x, x₁(E), x₂(E), m, h̅, n)"
      ]
     },
     "execution_count": 115,
     "metadata": {},
     "output_type": "execute_result"
    }
   ],
   "source": [
    "E = sp.Symbol('E', Real = True, positive = True)\n",
    "p = sp.Function('p', complex = True)\n",
    "V = sp.Function('V', complex = True)\n",
    "x = sp.Symbol('x', Real = True)\n",
    "x1 = sp.Function('x_1', Real = True)\n",
    "x2 = sp.Function('x_2', Real = True)\n",
    "m = sp.Symbol('m', Real = True, positive = True)\n",
    "h = sp.Symbol('hbar', Real = True, positive = True)\n",
    "n = sp.Symbol('n', Real = True, positive = True, integer = True)\n",
    "E, p(x), V(x), x, x1(E), x2(E), m, h, n"
   ]
  },
  {
   "cell_type": "code",
   "execution_count": 116,
   "id": "0887e899-b95b-4f33-abf6-dbca5d9c4937",
   "metadata": {
    "tags": []
   },
   "outputs": [
    {
     "data": {
      "image/png": "[encoded data removed]",
      "text/latex": [
       "$\\displaystyle x^{2} + 0.5$"
      ],
      "text/plain": [
       " 2      \n",
       "x  + 0.5"
      ]
     },
     "execution_count": 116,
     "metadata": {},
     "output_type": "execute_result"
    }
   ],
   "source": [
    "V = x**2+0.5\n",
    "V"
   ]
  },
  {
   "cell_type": "code",
   "execution_count": 117,
   "id": "c8f5ba51-bdad-43b3-a206-c59c1bc50901",
   "metadata": {
    "tags": []
   },
   "outputs": [
    {
     "data": {
      "image/png": "[encoded data removed]",
      "text/latex": [
       "$\\displaystyle \\sqrt{2} \\sqrt{m} \\sqrt{E - x^{2} - 0.5}$"
      ],
      "text/plain": [
       "         ______________\n",
       "        ╱      2       \n",
       "√2⋅√m⋅╲╱  E - x  - 0.5 "
      ]
     },
     "execution_count": 117,
     "metadata": {},
     "output_type": "execute_result"
    }
   ],
   "source": [
    "p = sp.sqrt(2*m*(E-V))\n",
    "p"
   ]
  },
  {
   "cell_type": "markdown",
   "id": "2e73fbf4-dc7f-4629-adab-c7efc782dc65",
   "metadata": {},
   "source": [
    "Wartości punktów powrotu $x_1$ i $x_2$ w zależności od energii $E$:"
   ]
  },
  {
   "cell_type": "code",
   "execution_count": 118,
   "id": "5923b02e-1e06-4d8b-924f-4370eabd75eb",
   "metadata": {},
   "outputs": [],
   "source": [
    "x1, x2 = -sp.sqrt((-1+2*E)/2), sp.sqrt((-1+2*E)/2)"
   ]
  },
  {
   "cell_type": "markdown",
   "id": "9257b0fe-30f6-4d17-ad37-488a675a362d",
   "metadata": {},
   "source": [
    "Wartości Energii:\n",
    "$$\\int_{x_1}^{x^2}p(x)dx = \\hbar \\pi \\left(\\frac{1}{2} + n \\right)$$"
   ]
  },
  {
   "cell_type": "code",
   "execution_count": 119,
   "id": "eb01ede2-8b11-4c6c-bbe0-3c70adc20779",
   "metadata": {
    "tags": []
   },
   "outputs": [
    {
     "data": {
      "text/latex": [
       "$\\displaystyle \\begin{cases} \\int\\limits_{- \\sqrt{E - \\frac{1}{2}}}^{\\sqrt{E - \\frac{1}{2}}} \\begin{cases} \\frac{\\sqrt{2} \\left(x^{2} \\left(E - 0.5\\right)^{2} \\left(x^{2} - \\operatorname{polar\\_lift}{\\left(E - 0.5 \\right)}\\right)^{3} \\left(- 0.5 i E \\operatorname{acosh}{\\left(\\frac{x}{\\sqrt{\\operatorname{polar\\_lift}{\\left(E - 0.5 \\right)}}} \\right)} + 0.25 \\pi E + 0.25 i \\operatorname{acosh}{\\left(\\frac{x}{\\sqrt{\\operatorname{polar\\_lift}{\\left(E - 0.5 \\right)}}} \\right)} - 0.125 \\pi\\right) - 0.015625 i x \\left(E - 0.5\\right) \\left(x^{2} - \\operatorname{polar\\_lift}{\\left(E - 0.5 \\right)}\\right)^{\\frac{7}{2}} \\cdot \\left(32.0 E \\left(E - 0.5\\right) + 64.0 E \\operatorname{polar\\_lift}{\\left(E - 0.5 \\right)} - 16.0 E - 128.0 x^{2} \\operatorname{polar\\_lift}{\\left(E - 0.5 \\right)} - 32.0 \\operatorname{polar\\_lift}{\\left(E - 0.5 \\right)} + 8.0\\right) - 0.015625 i x \\left(x^{2} - \\operatorname{polar\\_lift}{\\left(E - 0.5 \\right)}\\right)^{\\frac{5}{2}} \\cdot \\left(2 x^{2} - \\operatorname{polar\\_lift}{\\left(E - 0.5 \\right)}\\right) \\left(- 8.0 E \\left(4.0 E - 2.0\\right) + 16.0 E + x^{2} \\cdot \\left(32.0 E - 16.0\\right) - 8.0\\right) \\operatorname{polar\\_lift}{\\left(E - 0.5 \\right)} + \\left(E - 0.5\\right)^{2} \\left(x^{2} - \\operatorname{polar\\_lift}{\\left(E - 0.5 \\right)}\\right)^{4} \\left(- 0.5 i E \\operatorname{acosh}{\\left(\\frac{x}{\\sqrt{\\operatorname{polar\\_lift}{\\left(E - 0.5 \\right)}}} \\right)} + 0.25 \\pi E + 0.25 i \\operatorname{acosh}{\\left(\\frac{x}{\\sqrt{\\operatorname{polar\\_lift}{\\left(E - 0.5 \\right)}}} \\right)} - 0.125 \\pi\\right) - 1.0 \\left(E - 0.5\\right) \\left(4.0 E - 2.0\\right) \\left(x^{2} - \\operatorname{polar\\_lift}{\\left(E - 0.5 \\right)}\\right)^{3} \\cdot \\left(2 x^{2} - \\operatorname{polar\\_lift}{\\left(E - 0.5 \\right)}\\right) \\left(- 0.125 i E \\operatorname{acosh}{\\left(\\frac{x}{\\sqrt{\\operatorname{polar\\_lift}{\\left(E - 0.5 \\right)}}} \\right)} + 0.0625 \\pi E + 0.0625 i \\operatorname{acosh}{\\left(\\frac{x}{\\sqrt{\\operatorname{polar\\_lift}{\\left(E - 0.5 \\right)}}} \\right)} - 0.03125 \\pi\\right)\\right)}{x \\left(E - 0.5\\right)^{2} \\left(x^{2} - \\operatorname{polar\\_lift}{\\left(E - 0.5 \\right)}\\right)^{4}} & \\text{for}\\: \\left|{\\frac{x^{2}}{E - 0.5}}\\right| > 1 \\\\\\frac{\\sqrt{- 2 x^{2} + 2 \\operatorname{polar\\_lift}{\\left(E - 0.5 \\right)}} \\left(- 0.5 E^{2} x^{2} + 0.5 E^{2} \\operatorname{polar\\_lift}{\\left(E - 0.5 \\right)} + 0.5 E x^{2} + 0.5 E \\operatorname{polar\\_lift}^{2}{\\left(E - 0.5 \\right)} - 0.5 E \\operatorname{polar\\_lift}{\\left(E - 0.5 \\right)} + 1.0 x^{4} \\operatorname{polar\\_lift}{\\left(E - 0.5 \\right)} - 1.5 x^{2} \\operatorname{polar\\_lift}^{2}{\\left(E - 0.5 \\right)} - 0.125 x^{2} - 0.25 \\operatorname{polar\\_lift}^{2}{\\left(E - 0.5 \\right)} + 0.125 \\operatorname{polar\\_lift}{\\left(E - 0.5 \\right)}\\right)}{1.0 E x^{4} - 2.0 E x^{2} \\operatorname{polar\\_lift}{\\left(E - 0.5 \\right)} + 1.0 E \\operatorname{polar\\_lift}^{2}{\\left(E - 0.5 \\right)} - 0.5 x^{4} + 1.0 x^{2} \\operatorname{polar\\_lift}{\\left(E - 0.5 \\right)} - 0.5 \\operatorname{polar\\_lift}^{2}{\\left(E - 0.5 \\right)}} & \\text{otherwise} \\end{cases}\\, dx & \\text{for}\\: \\sqrt{4 E - 2} > - \\sqrt{4 E - 2} \\\\\\begin{cases} - \\frac{\\sqrt{2} \\int\\limits_{\\frac{\\sqrt{2} \\sqrt{2 E - 1}}{2}}^{- \\frac{\\sqrt{2} \\sqrt{2 E - 1}}{2}} \\frac{- 0.0625 x^{2} \\left(E - 0.5\\right) \\left(4.0 E - 2.0\\right) \\left(x^{2} - \\operatorname{polar\\_lift}{\\left(E - 0.5 \\right)}\\right)^{3} \\cdot \\left(2.0 i E \\operatorname{acosh}{\\left(\\frac{x}{\\sqrt{\\operatorname{polar\\_lift}{\\left(E - 0.5 \\right)}}} \\right)} - 1.0 \\pi E - 1.0 i \\operatorname{acosh}{\\left(\\frac{x}{\\sqrt{\\operatorname{polar\\_lift}{\\left(E - 0.5 \\right)}}} \\right)} + 0.5 \\pi\\right) + 0.0625 i x \\left(x^{2} - \\operatorname{polar\\_lift}{\\left(E - 0.5 \\right)}\\right)^{\\frac{5}{2}} \\cdot \\left(2 x^{2} - \\operatorname{polar\\_lift}{\\left(E - 0.5 \\right)}\\right) \\left(2.0 E \\left(4.0 E - 2.0\\right) - 4.0 E - x^{2} \\cdot \\left(8.0 E - 4.0\\right) + 2.0\\right) \\operatorname{polar\\_lift}{\\left(E - 0.5 \\right)} + 1.0 \\left(E - 0.5\\right) \\left(4.0 E - 2.0\\right) \\left(x^{2} - \\operatorname{polar\\_lift}{\\left(E - 0.5 \\right)}\\right)^{3} \\cdot \\left(2 x^{2} - \\operatorname{polar\\_lift}{\\left(E - 0.5 \\right)}\\right) \\left(0.125 i E \\operatorname{acosh}{\\left(\\frac{x}{\\sqrt{\\operatorname{polar\\_lift}{\\left(E - 0.5 \\right)}}} \\right)} - 0.0625 \\pi E - 0.0625 i \\operatorname{acosh}{\\left(\\frac{x}{\\sqrt{\\operatorname{polar\\_lift}{\\left(E - 0.5 \\right)}}} \\right)} + 0.03125 \\pi\\right) + 0.0625 \\cdot \\left(4.0 E - 2.0\\right) \\left(x^{2} - \\operatorname{polar\\_lift}{\\left(E - 0.5 \\right)}\\right)^{\\frac{7}{2}} \\left(- 2.0 i E x \\left(E - 0.5\\right) - 4.0 i E x \\operatorname{polar\\_lift}{\\left(E - 0.5 \\right)} - 2.0 i E \\left(E - 0.5\\right) \\sqrt{x^{2} - \\operatorname{polar\\_lift}{\\left(E - 0.5 \\right)}} \\operatorname{acosh}{\\left(\\frac{x}{\\sqrt{\\operatorname{polar\\_lift}{\\left(E - 0.5 \\right)}}} \\right)} + 1.0 \\pi E \\left(E - 0.5\\right) \\sqrt{x^{2} - \\operatorname{polar\\_lift}{\\left(E - 0.5 \\right)}} + 8.0 i x^{3} \\operatorname{polar\\_lift}{\\left(E - 0.5 \\right)} + 1.0 i x \\left(E - 0.5\\right) + 2.0 i x \\operatorname{polar\\_lift}{\\left(E - 0.5 \\right)} + 1.0 i \\left(E - 0.5\\right) \\sqrt{x^{2} - \\operatorname{polar\\_lift}{\\left(E - 0.5 \\right)}} \\operatorname{acosh}{\\left(\\frac{x}{\\sqrt{\\operatorname{polar\\_lift}{\\left(E - 0.5 \\right)}}} \\right)} - 0.5 \\pi \\left(E - 0.5\\right) \\sqrt{x^{2} - \\operatorname{polar\\_lift}{\\left(E - 0.5 \\right)}}\\right)}{x \\left(x^{2} - \\operatorname{polar\\_lift}{\\left(E - 0.5 \\right)}\\right)^{4}}\\, dx}{\\left(E - 0.5\\right)^{2}} & \\text{for}\\: \\left|{\\frac{x^{2}}{E - 0.5}}\\right| > 1 \\\\\\sqrt{2} \\int\\limits_{\\frac{\\sqrt{2} \\sqrt{2 E - 1}}{2}}^{- \\frac{\\sqrt{2} \\sqrt{2 E - 1}}{2}} \\frac{\\sqrt{- x^{2} + \\operatorname{polar\\_lift}{\\left(E - 0.5 \\right)}} \\left(0.5 E^{2} x^{2} - 0.5 E^{2} \\operatorname{polar\\_lift}{\\left(E - 0.5 \\right)} - 0.5 E x^{2} - 0.5 E \\operatorname{polar\\_lift}^{2}{\\left(E - 0.5 \\right)} + 0.5 E \\operatorname{polar\\_lift}{\\left(E - 0.5 \\right)} - 1.0 x^{4} \\operatorname{polar\\_lift}{\\left(E - 0.5 \\right)} + 1.5 x^{2} \\operatorname{polar\\_lift}^{2}{\\left(E - 0.5 \\right)} + 0.125 x^{2} + 0.25 \\operatorname{polar\\_lift}^{2}{\\left(E - 0.5 \\right)} - 0.125 \\operatorname{polar\\_lift}{\\left(E - 0.5 \\right)}\\right)}{1.0 E x^{4} - 2.0 E x^{2} \\operatorname{polar\\_lift}{\\left(E - 0.5 \\right)} + 1.0 E \\operatorname{polar\\_lift}^{2}{\\left(E - 0.5 \\right)} - 0.5 x^{4} + 1.0 x^{2} \\operatorname{polar\\_lift}{\\left(E - 0.5 \\right)} - 0.5 \\operatorname{polar\\_lift}^{2}{\\left(E - 0.5 \\right)}}\\, dx & \\text{otherwise} \\end{cases} & \\text{otherwise} \\end{cases}$"
      ],
      "text/plain": [
       "⎧                                                                     ________\n",
       "⎪                                                                   ╲╱ E - 1/2\n",
       "⎪                                                                        ⌠    \n",
       "⎪                                                                        ⎮    \n",
       "⎪                                                                        ⎮    \n",
       "⎪                                                                        ⎮    \n",
       "⎪                                                                        ⎮    \n",
       "⎪                                                                        ⎮    \n",
       "⎪                                                                        ⎮    \n",
       "⎪                                                                        ⎮    \n",
       "⎪                                                                        ⎮    \n",
       "⎪                                                                        ⎮    \n",
       "⎪                                                                        ⎮    \n",
       "⎪                                                                        ⎮    \n",
       "⎪                                                                        ⎮    \n",
       "⎪                                                                        ⎮    \n",
       "⎪                                                                        ⎮    \n",
       "⎪                                                                        ⎮    \n",
       "⎪                                                                        ⎮    \n",
       "⎪                                                                        ⎮    \n",
       "⎪                                                                        ⌡    \n",
       "⎪                                                                      _______\n",
       "⎪                                                                   -╲╱ E - 1/\n",
       "⎪                                                                             \n",
       "⎪⎧          _________                                                         \n",
       "⎪⎪    -√2⋅╲╱ 2⋅E - 1                                                          \n",
       "⎪⎪    ────────────────                                                        \n",
       "⎪⎪           2                                                                \n",
       "⎪⎪           ⌠                                                                \n",
       "⎪⎪           ⎮                                                                \n",
       "⎪⎪           ⎮                   2                         ⎛ 2                \n",
       "⎨⎪           ⎮         - 0.0625⋅x ⋅(E - 0.5)⋅(4.0⋅E - 2.0)⋅⎝x  - polar_lift(E \n",
       "⎪⎪           ⎮                                                                \n",
       "⎪⎪           ⎮                                                                \n",
       "⎪⎪-√2⋅       ⎮         ───────────────────────────────────────────────────────\n",
       "⎪⎪           ⎮                                                                \n",
       "⎪⎪           ⎮                                                                \n",
       "⎪⎪           ⎮                                                                \n",
       "⎪⎪           ⌡                                                                \n",
       "⎪⎪          _________                                                         \n",
       "⎪⎪     √2⋅╲╱ 2⋅E - 1                                                          \n",
       "⎪⎪     ──────────────                                                         \n",
       "⎪⎪           2                                                                \n",
       "⎪⎨────────────────────────────────────────────────────────────────────────────\n",
       "⎪⎪                                                                            \n",
       "⎪⎪                                                                            \n",
       "⎪⎪                                                                            \n",
       "⎪⎪                                                                            \n",
       "⎪⎪                                                                            \n",
       "⎪⎪                                                                            \n",
       "⎪⎪                                                                            \n",
       "⎪⎪                                                                            \n",
       "⎪⎪                                                                            \n",
       "⎪⎪                                                                            \n",
       "⎪⎪                                                                            \n",
       "⎪⎪                                                                            \n",
       "⎪⎪                                                                            \n",
       "⎪⎪                                                                            \n",
       "⎪⎪                                                                            \n",
       "⎪⎪                                                                            \n",
       "⎪⎪                                                                            \n",
       "⎪⎪                                                                            \n",
       "⎩⎩                                                                            \n",
       "\n",
       "_                                                                             \n",
       "                                                                              \n",
       "                                                                              \n",
       "   ⎧   ⎛                                        3                             \n",
       "   ⎪   ⎜ 2          2 ⎛ 2                      ⎞  ⎛               ⎛           \n",
       "   ⎪√2⋅⎜x ⋅(E - 0.5) ⋅⎝x  - polar_lift(E - 0.5)⎠ ⋅⎜- 0.5⋅ⅈ⋅E⋅acosh⎜───────────\n",
       "   ⎪   ⎜                                          ⎜               ⎜  _________\n",
       "   ⎪   ⎝                                          ⎝               ⎝╲╱ polar_li\n",
       "   ⎪──────────────────────────────────────────────────────────────────────────\n",
       "   ⎪                                                                          \n",
       "   ⎪                                                                          \n",
       "   ⎨                                                                          \n",
       "   ⎪                                                                          \n",
       "   ⎪                                                                          \n",
       "   ⎪                                                                          \n",
       "   ⎪                                                                          \n",
       "   ⎪                                                                          \n",
       "   ⎪                                                                          \n",
       "   ⎪                                                                          \n",
       "   ⎩                                                                          \n",
       "                                                                              \n",
       "__                                                                            \n",
       "2                                                                             \n",
       "                                                                              \n",
       "                                                                              \n",
       "                                                                              \n",
       "                                                                              \n",
       "                                                                              \n",
       "                                                                              \n",
       "       3                                                                      \n",
       "      ⎞  ⎛             ⎛           x           ⎞                ⎛           x \n",
       "- 0.5)⎠ ⋅⎜2.0⋅ⅈ⋅E⋅acosh⎜───────────────────────⎟ - π⋅E - ⅈ⋅acosh⎜─────────────\n",
       "         ⎜             ⎜  _____________________⎟                ⎜  ___________\n",
       "         ⎝             ⎝╲╱ polar_lift(E - 0.5) ⎠                ⎝╲╱ polar_lift\n",
       "──────────────────────────────────────────────────────────────────────────────\n",
       "                                                                              \n",
       "                                                                              \n",
       "                                                                              \n",
       "                                                                              \n",
       "                                                                              \n",
       "                                                                              \n",
       "                                                                              \n",
       "                                                                              \n",
       "──────────────────────────────────────────────────────────────────────────────\n",
       "                                                                              \n",
       "                                                                              \n",
       "                                                                              \n",
       "                                                                              \n",
       "                                                                              \n",
       "                                                                              \n",
       "                                                                              \n",
       "                                                                              \n",
       "                                                                              \n",
       "                                                                              \n",
       "                                                                              \n",
       "                                                                              \n",
       "                                                                              \n",
       "                                                                              \n",
       "                                                                              \n",
       "                                                                              \n",
       "                                                                              \n",
       "                                                                              \n",
       "                                                                              \n",
       "\n",
       "                                                                              \n",
       "                                                                              \n",
       "                                                                              \n",
       "                                                                              \n",
       "x           ⎞                          ⎛           x           ⎞          ⎞   \n",
       "────────────⎟ + 0.25⋅π⋅E + 0.25⋅ⅈ⋅acosh⎜───────────────────────⎟ - 0.125⋅π⎟ - \n",
       "____________⎟                          ⎜  _____________________⎟          ⎟   \n",
       "ft(E - 0.5) ⎠                          ⎝╲╱ polar_lift(E - 0.5) ⎠          ⎠   \n",
       "──────────────────────────────────────────────────────────────────────────────\n",
       "                                                                              \n",
       "                                                                              \n",
       "                                                                              \n",
       "                                                                              \n",
       "                                                                              \n",
       "                                                                              \n",
       "                                                                              \n",
       "                                                                              \n",
       "                                                                              \n",
       "                                                                              \n",
       "                                                                              \n",
       "                                                                              \n",
       "                                                                              \n",
       "                                                                              \n",
       "                                                                              \n",
       "                                                                              \n",
       "                                                                              \n",
       "                                                                              \n",
       "                                                                              \n",
       "                                                                              \n",
       "                                                            5/2               \n",
       "          ⎞        ⎞              ⎛ 2                      ⎞    ⎛   2         \n",
       "──────────⎟ + 0.5⋅π⎟ + 0.0625⋅ⅈ⋅x⋅⎝x  - polar_lift(E - 0.5)⎠   ⋅⎝2⋅x  - polar_\n",
       "__________⎟        ⎟                                                          \n",
       "(E - 0.5) ⎠        ⎠                                                          \n",
       "──────────────────────────────────────────────────────────────────────────────\n",
       "                                                                              \n",
       "                                                                              \n",
       "                                                                              \n",
       "                                                                              \n",
       "                                                                              \n",
       "                                                                              \n",
       "                                                                              \n",
       "                                                                              \n",
       "──────────────────────────────────────────────────────────────────────────────\n",
       "                                                                              \n",
       "                                                                              \n",
       "                                                                              \n",
       "                                                                              \n",
       "                                                                              \n",
       "                                                                              \n",
       "                                                                              \n",
       "                                                                              \n",
       "                                                                              \n",
       "                                                                              \n",
       "                                                                              \n",
       "                                                                              \n",
       "                                                                              \n",
       "                                                                              \n",
       "                                                                              \n",
       "                                                                              \n",
       "                                                                              \n",
       "                                                                              \n",
       "                                                                              \n",
       "\n",
       "                                                                              \n",
       "                                                                              \n",
       "                                                                              \n",
       "                                                 7/2                          \n",
       "                       ⎛ 2                      ⎞    ⎛                        \n",
       "0.015625⋅ⅈ⋅x⋅(E - 0.5)⋅⎝x  - polar_lift(E - 0.5)⎠   ⋅⎝32.0⋅E⋅(E - 0.5) + 64.0⋅\n",
       "                                                                              \n",
       "                                                                              \n",
       "──────────────────────────────────────────────────────────────────────────────\n",
       "                                                                              \n",
       "                                                                              \n",
       "                                                                              \n",
       "                                                                              \n",
       "                                                                              \n",
       "                                                                              \n",
       "                                                                              \n",
       "                                                                              \n",
       "                                                                              \n",
       "                                                                              \n",
       "                                                                              \n",
       "                                                                              \n",
       "                                                                              \n",
       "                                                                              \n",
       "                                                                              \n",
       "                                                                              \n",
       "                                                                              \n",
       "                                                                              \n",
       "                                                                              \n",
       "                                                                              \n",
       "                                                                              \n",
       "             ⎞ ⎛                               2                    ⎞         \n",
       "lift(E - 0.5)⎠⋅⎝2.0⋅E⋅(4.0⋅E - 2.0) - 4.0⋅E - x ⋅(8.0⋅E - 4.0) + 2.0⎠⋅polar_li\n",
       "                                                                              \n",
       "                                                                              \n",
       "──────────────────────────────────────────────────────────────────────────────\n",
       "                                                                              \n",
       "                                                                              \n",
       "                                                                              \n",
       "                                                                              \n",
       "                                                                              \n",
       "                                                                              \n",
       "                                                                              \n",
       "                                                                              \n",
       "──────────────────────────────────────────────────────────────────────────────\n",
       "                                                                              \n",
       "                                                                              \n",
       "                                                                              \n",
       "                                                                              \n",
       "                                                                              \n",
       "                                                                              \n",
       "                                                                              \n",
       "                                                                              \n",
       "                                                                              \n",
       "                                                                              \n",
       "                                                                              \n",
       "                                                                              \n",
       "                                                                              \n",
       "                                                                              \n",
       "                                                                              \n",
       "                                                                              \n",
       "                                                                              \n",
       "                                                                              \n",
       "                                                                              \n",
       "\n",
       "                                                                              \n",
       "                                                                              \n",
       "                                                                              \n",
       "                                                                              \n",
       "                                        2                                     \n",
       "E⋅polar_lift(E - 0.5) - 16.0⋅E - 128.0⋅x ⋅polar_lift(E - 0.5) - 32.0⋅polar_lif\n",
       "                                                                              \n",
       "                                                                              \n",
       "──────────────────────────────────────────────────────────────────────────────\n",
       "                                                                              \n",
       "                                                                              \n",
       "                                                                              \n",
       "                                                                              \n",
       "                                              ________________________________\n",
       "                                             ╱      2                         \n",
       "                                           ╲╱  - 2⋅x  + 2⋅polar_lift(E - 0.5) \n",
       "                                           ───────────────────────────────────\n",
       "                                                                              \n",
       "                                                                              \n",
       "                                                                              \n",
       "                                                                              \n",
       "                                                                              \n",
       "                                                                              \n",
       "                                                                              \n",
       "                                                                              \n",
       "                                                                              \n",
       "                                                                              \n",
       "                                                                              \n",
       "                                                                              \n",
       "                                                                    3         \n",
       "                                          ⎛ 2                      ⎞  ⎛   2   \n",
       "ft(E - 0.5) + 1.0⋅(E - 0.5)⋅(4.0⋅E - 2.0)⋅⎝x  - polar_lift(E - 0.5)⎠ ⋅⎝2⋅x  - \n",
       "                                                                              \n",
       "                                                                              \n",
       "──────────────────────────────────────────────────────────────────────────────\n",
       "                                                                              \n",
       "                                                                              \n",
       "                                                                              \n",
       "                                                                              \n",
       "                                                                              \n",
       "                                                                              \n",
       "                                                                              \n",
       "                                                                              \n",
       "──────────────────────────────────────────────────────────────────────────────\n",
       "                                                                              \n",
       "                                                                              \n",
       "                                                                              \n",
       "                                         _________                            \n",
       "                                   -√2⋅╲╱ 2⋅E - 1                             \n",
       "                                   ────────────────                           \n",
       "                                          2                                   \n",
       "                                          ⌠                                   \n",
       "                                          ⎮            _______________________\n",
       "                                          ⎮           ╱    2                  \n",
       "                                          ⎮         ╲╱  - x  + polar_lift(E - \n",
       "                                √2⋅       ⎮         ──────────────────────────\n",
       "                                          ⎮                                   \n",
       "                                          ⎮                                   \n",
       "                                          ⌡                                   \n",
       "                                         _________                            \n",
       "                                    √2⋅╲╱ 2⋅E - 1                             \n",
       "                                    ──────────────                            \n",
       "                                          2                                   \n",
       "\n",
       "                                                                              \n",
       "                                                                              \n",
       "                                                                              \n",
       "                                                           5/2                \n",
       "                ⎞                ⎛ 2                      ⎞    ⎛   2          \n",
       "t(E - 0.5) + 8.0⎠ - 0.015625⋅ⅈ⋅x⋅⎝x  - polar_lift(E - 0.5)⎠   ⋅⎝2⋅x  - polar_l\n",
       "                                                                              \n",
       "                                                                              \n",
       "──────────────────────────────────────────────────────────────────────────────\n",
       "                                                                              \n",
       "                                                                              \n",
       "                                                                              \n",
       "                                                                              \n",
       "                                                                              \n",
       " ⎛       2  2        2                              2                   2     \n",
       "⋅⎝- 0.5⋅E ⋅x  + 0.5⋅E ⋅polar_lift(E - 0.5) + 0.5⋅E⋅x  + 0.5⋅E⋅polar_lift (E - \n",
       "──────────────────────────────────────────────────────────────────────────────\n",
       "                                         4          2                         \n",
       "                                  1.0⋅E⋅x  - 2.0⋅E⋅x ⋅polar_lift(E - 0.5) + 1.\n",
       "                                                                              \n",
       "                                                                              \n",
       "                                                                              \n",
       "                                                                              \n",
       "                                                                              \n",
       "                                                                              \n",
       "                                                                              \n",
       "                                                                              \n",
       "                                                                              \n",
       "                                                                              \n",
       "                                                                              \n",
       "                   ⎞ ⎛               ⎛           x           ⎞                \n",
       "polar_lift(E - 0.5)⎠⋅⎜0.125⋅ⅈ⋅E⋅acosh⎜───────────────────────⎟ - 0.0625⋅π⋅E - \n",
       "                     ⎜               ⎜  _____________________⎟                \n",
       "                     ⎝               ⎝╲╱ polar_lift(E - 0.5) ⎠                \n",
       "──────────────────────────────────────────────────────────────────────────────\n",
       "                                                                              \n",
       "                                                                              \n",
       "                                                                              \n",
       "                                                                              \n",
       "                                                                              \n",
       "                                                                              \n",
       "                                                                              \n",
       "                                                                              \n",
       "──────────────────────────────────────────────────────────────────────────────\n",
       "                                                                              \n",
       "                                                                              \n",
       "                                                                              \n",
       "                                                                              \n",
       "                                                                              \n",
       "                                                                              \n",
       "                                                                              \n",
       "                                                                              \n",
       "_____                                                                         \n",
       "      ⎛     2  2        2                              2                   2  \n",
       "0.5) ⋅⎝0.5⋅E ⋅x  - 0.5⋅E ⋅polar_lift(E - 0.5) - 0.5⋅E⋅x  - 0.5⋅E⋅polar_lift (E\n",
       "──────────────────────────────────────────────────────────────────────────────\n",
       "                                             4          2                     \n",
       "                                      1.0⋅E⋅x  - 2.0⋅E⋅x ⋅polar_lift(E - 0.5) \n",
       "                                                                              \n",
       "                                                                              \n",
       "                                                                              \n",
       "                                                                              \n",
       "                                                                              \n",
       "\n",
       "                                                                              \n",
       "                                                                              \n",
       "                                                                              \n",
       "                                                                              \n",
       "            ⎞ ⎛                                 2                      ⎞      \n",
       "ift(E - 0.5)⎠⋅⎝-8.0⋅E⋅(4.0⋅E - 2.0) + 16.0⋅E + x ⋅(32.0⋅E - 16.0) - 8.0⎠⋅polar\n",
       "                                                                              \n",
       "                                                                              \n",
       "──────────────────────────────────────────────────────────────────────────────\n",
       "                                           4                                  \n",
       "               2 ⎛ 2                      ⎞                                   \n",
       "    x⋅(E - 0.5) ⋅⎝x  - polar_lift(E - 0.5)⎠                                   \n",
       "                                                                              \n",
       "                                                                              \n",
       "                                        4                            2        \n",
       "0.5) - 0.5⋅E⋅polar_lift(E - 0.5) + 1.0⋅x ⋅polar_lift(E - 0.5) - 1.5⋅x ⋅polar_l\n",
       "──────────────────────────────────────────────────────────────────────────────\n",
       "              2                 4        2                                    \n",
       "0⋅E⋅polar_lift (E - 0.5) - 0.5⋅x  + 1.0⋅x ⋅polar_lift(E - 0.5) - 0.5⋅polar_lif\n",
       "                                                                              \n",
       "                                                                              \n",
       "                                                                              \n",
       "                                                                              \n",
       "                                                                              \n",
       "                                                                              \n",
       "                                                                              \n",
       "                                                                              \n",
       "                                                                              \n",
       "                                                                              \n",
       "                                                                              \n",
       "              ⎛           x           ⎞            ⎞                        ⎛ \n",
       "0.0625⋅ⅈ⋅acosh⎜───────────────────────⎟ + 0.03125⋅π⎟ + 0.0625⋅(4.0⋅E - 2.0)⋅⎝x\n",
       "              ⎜  _____________________⎟            ⎟                          \n",
       "              ⎝╲╱ polar_lift(E - 0.5) ⎠            ⎠                          \n",
       "──────────────────────────────────────────────────────────────────────────────\n",
       "                                        4                                     \n",
       "              ⎛ 2                      ⎞                                      \n",
       "            x⋅⎝x  - polar_lift(E - 0.5)⎠                                      \n",
       "                                                                              \n",
       "                                                                              \n",
       "                                                                              \n",
       "                                                                              \n",
       "                                                                              \n",
       "──────────────────────────────────────────────────────────────────────────────\n",
       "                       2                                                      \n",
       "              (E - 0.5)                                                       \n",
       "                                                                              \n",
       "                                                                              \n",
       "                                                                              \n",
       "                                                                              \n",
       "                                                                              \n",
       "                                                                              \n",
       "                                                                              \n",
       "                                       4                            2         \n",
       " - 0.5) + 0.5⋅E⋅polar_lift(E - 0.5) - x ⋅polar_lift(E - 0.5) + 1.5⋅x ⋅polar_li\n",
       "──────────────────────────────────────────────────────────────────────────────\n",
       "                  2                 4        2                                \n",
       "+ 1.0⋅E⋅polar_lift (E - 0.5) - 0.5⋅x  + 1.0⋅x ⋅polar_lift(E - 0.5) - 0.5⋅polar\n",
       "                                                                              \n",
       "                                                                              \n",
       "                                                                              \n",
       "                                                                              \n",
       "                                                                              \n",
       "\n",
       "                                                                              \n",
       "                                                                              \n",
       "                                                                              \n",
       "                                                      4                       \n",
       "                          2 ⎛ 2                      ⎞  ⎛               ⎛     \n",
       "_lift(E - 0.5) + (E - 0.5) ⋅⎝x  - polar_lift(E - 0.5)⎠ ⋅⎜- 0.5⋅ⅈ⋅E⋅acosh⎜─────\n",
       "                                                        ⎜               ⎜  ___\n",
       "                                                        ⎝               ⎝╲╱ po\n",
       "──────────────────────────────────────────────────────────────────────────────\n",
       "                                                                              \n",
       "                                                                              \n",
       "                                                                              \n",
       "                                                                              \n",
       "                                                                              \n",
       "   2                   2                  2                                   \n",
       "ift (E - 0.5) - 0.125⋅x  - 0.25⋅polar_lift (E - 0.5) + 0.125⋅polar_lift(E - 0.\n",
       "──────────────────────────────────────────────────────────────────────────────\n",
       " 2                                                                            \n",
       "t (E - 0.5)                                                                   \n",
       "                                                                              \n",
       "                                                                              \n",
       "                                                                              \n",
       "                                                                              \n",
       "                                                                              \n",
       "                                                                              \n",
       "                                                                              \n",
       "                                                                              \n",
       "                                                                              \n",
       "                                                                              \n",
       "                        7/2 ⎛                                                 \n",
       "2                      ⎞    ⎜                                                 \n",
       "  - polar_lift(E - 0.5)⎠   ⋅⎜-2.0⋅ⅈ⋅E⋅x⋅(E - 0.5) - 4.0⋅ⅈ⋅E⋅x⋅polar_lift(E - 0\n",
       "                            ⎜                                                 \n",
       "                            ⎝                                                 \n",
       "──────────────────────────────────────────────────────────────────────────────\n",
       "                                                                              \n",
       "                                                                              \n",
       "                                                                              \n",
       "                                                                              \n",
       "                                                                              \n",
       "                                                                              \n",
       "                                                                              \n",
       "                                                                              \n",
       "──────────────────────────────────────────────────────────────────────────────\n",
       "                                                                              \n",
       "                                                                              \n",
       "                                                                              \n",
       "                                                                              \n",
       "                                                                              \n",
       "                                                                              \n",
       "                                                                              \n",
       "                                                                              \n",
       "                                                                              \n",
       "  2                   2                  2                                    \n",
       "ft (E - 0.5) + 0.125⋅x  + 0.25⋅polar_lift (E - 0.5) - 0.125⋅polar_lift(E - 0.5\n",
       "──────────────────────────────────────────────────────────────────────────────\n",
       "     2                                                                        \n",
       "_lift (E - 0.5)                                                               \n",
       "                                                                              \n",
       "                                                                              \n",
       "                                                                              \n",
       "                                                                              \n",
       "                                                                              \n",
       "\n",
       "                                                                              \n",
       "                                                                              \n",
       "                                                                              \n",
       "                                                                              \n",
       "      x           ⎞                          ⎛           x           ⎞        \n",
       "──────────────────⎟ + 0.25⋅π⋅E + 0.25⋅ⅈ⋅acosh⎜───────────────────────⎟ - 0.125\n",
       "__________________⎟                          ⎜  _____________________⎟        \n",
       "lar_lift(E - 0.5) ⎠                          ⎝╲╱ polar_lift(E - 0.5) ⎠        \n",
       "──────────────────────────────────────────────────────────────────────────────\n",
       "                                                                              \n",
       "                                                                              \n",
       "                                                                              \n",
       "                                                                              \n",
       "                                                                              \n",
       "  ⎞                                                                           \n",
       "5)⎠                                                                           \n",
       "───                                                                           \n",
       "                                                                              \n",
       "                                                                              \n",
       "                                                                              \n",
       "                                                                              \n",
       "                                                                              \n",
       "                                                                              \n",
       "                                                                              \n",
       "                                                                              \n",
       "                                                                              \n",
       "                                                                              \n",
       "                                                                              \n",
       "                                                                              \n",
       "                           __________________________                         \n",
       "                          ╱  2                             ⎛           x      \n",
       ".5) - 2.0⋅ⅈ⋅E⋅(E - 0.5)⋅╲╱  x  - polar_lift(E - 0.5) ⋅acosh⎜──────────────────\n",
       "                                                           ⎜  ________________\n",
       "                                                           ⎝╲╱ polar_lift(E - \n",
       "──────────────────────────────────────────────────────────────────────────────\n",
       "                                                                              \n",
       "                                                                              \n",
       "                                                                              \n",
       "                                                                              \n",
       "                                                                              \n",
       "                                                                              \n",
       "                                                                              \n",
       "                                                                              \n",
       "──────────────────────────────────────────────────────────────────────────────\n",
       "                                                                              \n",
       "                                                                              \n",
       "                                                                              \n",
       "                                                                              \n",
       "                                                                              \n",
       "                                                                              \n",
       "                                                                              \n",
       "                                                                              \n",
       "                                                                              \n",
       " ⎞                                                                            \n",
       ")⎠                                                                            \n",
       "── dx                                                                         \n",
       "                                                                              \n",
       "                                                                              \n",
       "                                                                              \n",
       "                                                                              \n",
       "                                                                              \n",
       "                                                                              \n",
       "                                                                              \n",
       "\n",
       "                                                                              \n",
       "                                                                              \n",
       "                                                                              \n",
       "                                                        3                     \n",
       "  ⎞                           ⎛ 2                      ⎞  ⎛   2               \n",
       "⋅π⎟ - (E - 0.5)⋅(4.0⋅E - 2.0)⋅⎝x  - polar_lift(E - 0.5)⎠ ⋅⎝2⋅x  - polar_lift(E\n",
       "  ⎟                                                                           \n",
       "  ⎠                                                                           \n",
       "──────────────────────────────────────────────────────────────────────────────\n",
       "                                                                              \n",
       "                                                                              \n",
       "                                                                              \n",
       "                                                                              \n",
       "                                                                              \n",
       "                                                                              \n",
       "                                                                              \n",
       "                                                                              \n",
       "                                                                              \n",
       "                                                                              \n",
       "                                                                              \n",
       "                                                                              \n",
       "                                                                              \n",
       "                                                                              \n",
       "                                                                              \n",
       "                                                                              \n",
       "                                                                              \n",
       "                                                                              \n",
       "                                                                              \n",
       "                                                                              \n",
       "                              __________________________                      \n",
       "     ⎞                       ╱  2                                 3           \n",
       "─────⎟ + 1.0⋅π⋅E⋅(E - 0.5)⋅╲╱  x  - polar_lift(E - 0.5)  + 8.0⋅ⅈ⋅x ⋅polar_lift\n",
       "_____⎟                                                                        \n",
       "0.5) ⎠                                                                        \n",
       "──────────────────────────────────────────────────────────────────────────────\n",
       "                                                                              \n",
       "                                                                              \n",
       "                                                                              \n",
       "                                                                              \n",
       "                                                                              \n",
       "                                                                              \n",
       "                                                                              \n",
       "                                                                              \n",
       "──────────────────────────────────────────────────────────────────────────────\n",
       "                                                                              \n",
       "                                                                              \n",
       "                                                                              \n",
       "                                                                              \n",
       "                                                                              \n",
       "                                                                              \n",
       "                                                                              \n",
       "                                                                              \n",
       "                                                                              \n",
       "                                                                              \n",
       "                                                                              \n",
       "                                                                              \n",
       "                                                                              \n",
       "                                                                              \n",
       "                                                                              \n",
       "                                                                              \n",
       "                                                                              \n",
       "                                                                              \n",
       "                                                                              \n",
       "\n",
       "                                                                              \n",
       "                                                                              \n",
       "                                                                              \n",
       "                                                                              \n",
       "       ⎞ ⎛                 ⎛           x           ⎞                          \n",
       " - 0.5)⎠⋅⎜- 0.125⋅ⅈ⋅E⋅acosh⎜───────────────────────⎟ + 0.0625⋅π⋅E + 0.0625⋅ⅈ⋅a\n",
       "         ⎜                 ⎜  _____________________⎟                          \n",
       "         ⎝                 ⎝╲╱ polar_lift(E - 0.5) ⎠                          \n",
       "──────────────────────────────────────────────────────────────────────────────\n",
       "                                                                              \n",
       "                                                                              \n",
       "                                                                              \n",
       "                                                                              \n",
       "                                                                              \n",
       "                                                                              \n",
       "                                                                              \n",
       "                                                                              \n",
       "                                                                              \n",
       "                                                                              \n",
       "                                                                              \n",
       "                                                                              \n",
       "                                                                              \n",
       "                                                                              \n",
       "                                                                              \n",
       "                                                                              \n",
       "                                                                              \n",
       "                                                                              \n",
       "                                                                              \n",
       "                                                                              \n",
       "                                                                              \n",
       "                                                                              \n",
       "(E - 0.5) + 1.0⋅ⅈ⋅x⋅(E - 0.5) + 2.0⋅ⅈ⋅x⋅polar_lift(E - 0.5) + 1.0⋅ⅈ⋅(E - 0.5)⋅\n",
       "                                                                              \n",
       "                                                                              \n",
       "──────────────────────────────────────────────────────────────────────────────\n",
       "                                                                              \n",
       "                                                                              \n",
       "                                                                              \n",
       "                                                                              \n",
       "                                                                              \n",
       "                                                                              \n",
       "                                                                              \n",
       "                                                                              \n",
       "──────────────────────────────────────────────────────────────────────────────\n",
       "                                                                              \n",
       "                                                                              \n",
       "                                                                              \n",
       "                                                                              \n",
       "                                                                              \n",
       "                                                                              \n",
       "                                                                              \n",
       "                                                                              \n",
       "                                                                              \n",
       "                                                                              \n",
       "                                                                              \n",
       "                                                                              \n",
       "                                                                              \n",
       "                                                                              \n",
       "                                                                              \n",
       "                                                                              \n",
       "                                                                              \n",
       "                                                                              \n",
       "                                                                              \n",
       "\n",
       "                                                                              \n",
       "                                                                              \n",
       "                                                                              \n",
       "                                          ⎞                                   \n",
       "    ⎛           x           ⎞            ⎞⎟                                   \n",
       "cosh⎜───────────────────────⎟ - 0.03125⋅π⎟⎟                                   \n",
       "    ⎜  _____________________⎟            ⎟⎟      │    2  │                    \n",
       "    ⎝╲╱ polar_lift(E - 0.5) ⎠            ⎠⎠      │   x   │                    \n",
       "───────────────────────────────────────────  for │───────│ > 1                \n",
       "                                                 │E - 0.5│                    \n",
       "                                                                              \n",
       "                                                               dx             \n",
       "                                                                              \n",
       "                                                                              \n",
       "                                                                              \n",
       "                                                                              \n",
       "                                                 otherwise                    \n",
       "                                                                              \n",
       "                                                                              \n",
       "                                                                              \n",
       "                                                                              \n",
       "                                                                              \n",
       "                                                                              \n",
       "                                                                              \n",
       "                                                                              \n",
       "                                                                              \n",
       "                                                                              \n",
       "                                                                              \n",
       "                                                                              \n",
       "   __________________________                                                 \n",
       "  ╱  2                             ⎛           x           ⎞                  \n",
       "╲╱  x  - polar_lift(E - 0.5) ⋅acosh⎜───────────────────────⎟ - 0.5⋅π⋅(E - 0.5)\n",
       "                                   ⎜  _____________________⎟                  \n",
       "                                   ⎝╲╱ polar_lift(E - 0.5) ⎠                  \n",
       "──────────────────────────────────────────────────────────────────────────────\n",
       "                                                                              \n",
       "                                                                              \n",
       "                                                                              \n",
       "                                                                              \n",
       "                                                                              \n",
       "                                                                              \n",
       "                                                                              \n",
       "                                                                              \n",
       "──────────────────────────────────────────────────────────────────────────────\n",
       "                                                                              \n",
       "                                                                              \n",
       "                                                                              \n",
       "                                                                              \n",
       "                                                                              \n",
       "                                                                              \n",
       "                                                                              \n",
       "                                                                              \n",
       "                                                                              \n",
       "                                                                              \n",
       "                                                                              \n",
       "                                                                              \n",
       "                                                                              \n",
       "                                                                              \n",
       "                                                                              \n",
       "                                                                              \n",
       "                                                                              \n",
       "                                                                              \n",
       "                                                                              \n",
       "\n",
       "                                                                              \n",
       "                                                                              \n",
       "                                                                              \n",
       "                                                                              \n",
       "                                                                              \n",
       "                                                                              \n",
       "                                                                              \n",
       "                                                                              \n",
       "                                                                              \n",
       "                                                                              \n",
       "                                                              _________      _\n",
       "                                                        for ╲╱ 4⋅E - 2  > -╲╱ \n",
       "                                                                              \n",
       "                                                                              \n",
       "                                                                              \n",
       "                                                                              \n",
       "                                                                              \n",
       "                                                                              \n",
       "                                                                              \n",
       "                                                                              \n",
       "                                                                              \n",
       "                                                                              \n",
       "                                                                              \n",
       "                                                                              \n",
       "                                                                              \n",
       "                                                                              \n",
       "                                                                              \n",
       "                                                                              \n",
       "                                                                              \n",
       "    __________________________⎞                                               \n",
       "   ╱  2                       ⎟                                               \n",
       "⋅╲╱  x  - polar_lift(E - 0.5) ⎟                                               \n",
       "                              ⎟                                               \n",
       "                              ⎠                                               \n",
       "─────────────────────────────── dx                                            \n",
       "                                                                              \n",
       "                                                                              \n",
       "                                                                              \n",
       "                                                                              \n",
       "                                                                              \n",
       "                                                                              \n",
       "                                         │    2  │                            \n",
       "                                         │   x   │                            \n",
       "───────────────────────────────────  for │───────│ > 1            otherwise   \n",
       "                                         │E - 0.5│                            \n",
       "                                                                              \n",
       "                                                                              \n",
       "                                                                              \n",
       "                                                                              \n",
       "                                                                              \n",
       "                                                                              \n",
       "                                                                              \n",
       "                                                                              \n",
       "                                                                              \n",
       "                                                                              \n",
       "                                         otherwise                            \n",
       "                                                                              \n",
       "                                                                              \n",
       "                                                                              \n",
       "                                                                              \n",
       "                                                                              \n",
       "                                                                              \n",
       "                                                                              \n",
       "\n",
       "        \n",
       "        \n",
       "        \n",
       "        \n",
       "        \n",
       "        \n",
       "        \n",
       "        \n",
       "        \n",
       "        \n",
       "________\n",
       "4⋅E - 2 \n",
       "        \n",
       "        \n",
       "        \n",
       "        \n",
       "        \n",
       "        \n",
       "        \n",
       "        \n",
       "        \n",
       "        \n",
       "        \n",
       "        \n",
       "        \n",
       "        \n",
       "        \n",
       "        \n",
       "        \n",
       "        \n",
       "        \n",
       "        \n",
       "        \n",
       "        \n",
       "        \n",
       "        \n",
       "        \n",
       "        \n",
       "        \n",
       "        \n",
       "        \n",
       "        \n",
       "        \n",
       "        \n",
       "        \n",
       "        \n",
       "        \n",
       "        \n",
       "        \n",
       "        \n",
       "        \n",
       "        \n",
       "        \n",
       "        \n",
       "        \n",
       "        \n",
       "        \n",
       "        \n",
       "        \n",
       "        \n",
       "        \n",
       "        \n",
       "        "
      ]
     },
     "execution_count": 119,
     "metadata": {},
     "output_type": "execute_result"
    }
   ],
   "source": [
    "E = sp.integrate(p.subs(m,1), (x, x1, x2), conds = 'none').simplify()\n",
    "E"
   ]
  },
  {
   "cell_type": "code",
   "execution_count": 86,
   "id": "77f632e6-89ee-4679-836b-cd710d4d92c3",
   "metadata": {},
   "outputs": [
    {
     "data": {
      "image/png": "[encoded data removed]",
      "text/latex": [
       "$\\displaystyle 4.71238898038469$"
      ],
      "text/plain": [
       "4.71238898038469"
      ]
     },
     "execution_count": 86,
     "metadata": {},
     "output_type": "execute_result"
    }
   ],
   "source": [
    "eq = sp.Eq(E, sp.pi*(1/2+n))\n",
    "E1 = sp.solve(eq.subs(n,1), E)[0]\n",
    "E1\n",
    "#x1.subs(E,E1), x2.subs(E, E1)"
   ]
  },
  {
   "cell_type": "code",
   "execution_count": null,
   "id": "9b57e466-463a-4ba6-9c65-7acf8a31742f",
   "metadata": {},
   "outputs": [],
   "source": []
  }
 ],
 "metadata": {
  "kernelspec": {
   "display_name": "Python 3 (ipykernel)",
   "language": "python",
   "name": "python3"
  },
  "language_info": {
   "codemirror_mode": {
    "name": "ipython",
    "version": 3
   },
   "file_extension": ".py",
   "mimetype": "text/x-python",
   "name": "python",
   "nbconvert_exporter": "python",
   "pygments_lexer": "ipython3",
   "version": "3.10.0"
  }
 },
 "nbformat": 4,
 "nbformat_minor": 5
}
